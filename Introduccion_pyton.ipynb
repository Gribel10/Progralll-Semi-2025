{
  "nbformat": 4,
  "nbformat_minor": 0,
  "metadata": {
    "colab": {
      "provenance": [],
      "authorship_tag": "ABX9TyPmj0sBx1i+4ajfP8OBNZag",
      "include_colab_link": true
    },
    "kernelspec": {
      "name": "python3",
      "display_name": "Python 3"
    },
    "language_info": {
      "name": "python"
    }
  },
  "cells": [
    {
      "cell_type": "markdown",
      "metadata": {
        "id": "view-in-github",
        "colab_type": "text"
      },
      "source": [
        "<a href=\"https://colab.research.google.com/github/Gribel10/Progralll-Semi-2025/blob/main/Introduccion_pyton.ipynb\" target=\"_parent\"><img src=\"https://colab.research.google.com/assets/colab-badge.svg\" alt=\"Open In Colab\"/></a>"
      ]
    },
    {
      "cell_type": "code",
      "execution_count": 3,
      "metadata": {
        "colab": {
          "base_uri": "https://localhost:8080/"
        },
        "id": "y9Cy1oN3b0uH",
        "outputId": "15290187-3afd-4cdc-e860-5e736016df82"
      },
      "outputs": [
        {
          "output_type": "stream",
          "name": "stdout",
          "text": [
            "Hola Mundo\n",
            "Bienvenidos chicos a Programacion Computacional lll\n"
          ]
        }
      ],
      "source": [
        "print(\"Hola Mundo\")\n",
        "print(\"Bienvenidos chicos a Programacion Computacional lll\")"
      ]
    },
    {
      "cell_type": "code",
      "source": [
        "nombre =\"Kelly Ayala\"\n",
        "edad = 20\n",
        "print(nombre, edad)\n",
        "\n",
        "edad = \"veinte\"\n",
        "print(\"Tu eda: \", edad)"
      ],
      "metadata": {
        "colab": {
          "base_uri": "https://localhost:8080/"
        },
        "id": "9ZzG8nKqdJrd",
        "outputId": "4947f1ef-de25-40bf-9091-e472c435249b"
      },
      "execution_count": 7,
      "outputs": [
        {
          "output_type": "stream",
          "name": "stdout",
          "text": [
            "Kelly Ayala 20\n",
            "Tu eda:  veinte\n"
          ]
        }
      ]
    },
    {
      "cell_type": "code",
      "source": [
        "num1 = 5\n",
        "num2 = 8.9\n",
        "suma = num1 + num2\n",
        "print(\"La suma es: \", suma)"
      ],
      "metadata": {
        "colab": {
          "base_uri": "https://localhost:8080/"
        },
        "id": "rgitw5Dgdy7p",
        "outputId": "d5b6e23a-324e-48c4-d2ea-a732842dc53b"
      },
      "execution_count": 8,
      "outputs": [
        {
          "output_type": "stream",
          "name": "stdout",
          "text": [
            "La suma es:  13.9\n"
          ]
        }
      ]
    },
    {
      "cell_type": "code",
      "source": [
        "num1 = float(input(\"Num1: \"))\n",
        "num2 = float(input(\"Num2: \"))\n",
        "suma = num1 + num2\n",
        "print(\"La suma es: \", suma)\n"
      ],
      "metadata": {
        "id": "7DLTzW0KfZDo"
      },
      "execution_count": null,
      "outputs": []
    },
    {
      "cell_type": "code",
      "source": [
        "num1 = float(input(\"Num1: \"))\n",
        "num2 = float(input(\"Num2: \"))\n",
        "resta = num1 - num2\n",
        "print(\"La resta es: \", resta)"
      ],
      "metadata": {
        "id": "JNSttOhGhwRw"
      },
      "execution_count": null,
      "outputs": []
    }
  ]
}