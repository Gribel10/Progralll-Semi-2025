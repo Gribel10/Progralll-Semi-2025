{
  "cells": [
    {
      "cell_type": "markdown",
      "metadata": {
        "id": "view-in-github",
        "colab_type": "text"
      },
      "source": [
        "<a href=\"https://colab.research.google.com/github/Gribel10/Progralll-Semi-2025/blob/main/Te_damos_la_bienvenida_a_Colab.ipynb\" target=\"_parent\"><img src=\"https://colab.research.google.com/assets/colab-badge.svg\" alt=\"Open In Colab\"/></a>"
      ]
    },
    {
      "cell_type": "code",
      "source": [
        "#ENTERO\n",
        "num1 = 6\n",
        "print(num1, \"Esto es un numero entero\")\n",
        "print( str(num1) + \" Esto es un entero\"  )\n",
        "\n",
        "#DECIMAL\n",
        "num2 = 7.5\n",
        "print(num2, \"Esto es un numero decimal\")\n",
        "\n",
        "#BOOLEANO\n",
        "esMayor = True\n",
        "print(esMayor, \"Esto es un booleano\")\n",
        "\n",
        "#CADENA\n",
        "nombre = \"Gribel Torres\"\n",
        "cadena = input(\"Dime una cadena: \")\n",
        "valor = int(input(\"Dime un valor: \"))\n",
        "print(nombre, \"Esto es una cadena\", cadena[:valor])\n",
        "\n",
        "print( nombre, \"Letra inicial\", nombre[0],  \"Un valor especifico\", nombre[5], \"rango\", nombre[0:4], \"Comenzar desde el final\", nombre[-1])\n",
        "print( nombre[5:len(nombre)], nombre[:4] )\n",
        "print(type(nombre))\n"
      ],
      "metadata": {
        "colab": {
          "base_uri": "https://localhost:8080/"
        },
        "id": "ab4KMG6rOw5p",
        "outputId": "1bfbec4b-127a-4751-dfe3-f0fe1efb35b0"
      },
      "execution_count": 8,
      "outputs": [
        {
          "output_type": "stream",
          "name": "stdout",
          "text": [
            "6 Esto es un numero entero\n",
            "6 Esto es un entero\n",
            "7.5 Esto es un numero decimal\n",
            "True Esto es un booleano\n",
            "Dime una cadena: Hola\n",
            "Dime un valor: 10\n",
            "Gribel Torres Esto es una cadena Hola\n",
            "Gribel Torres Letra inicial G Un valor especifico l rango Grib Comenzar desde el final s\n",
            "l Torres Grib\n",
            "<class 'str'>\n"
          ]
        }
      ]
    },
    {
      "cell_type": "code",
      "source": [
        "#FECHAS\n",
        "from datetime import datetime, date, time\n",
        "fecha = datetime.now()\n",
        "print(fecha, fecha.date(), fecha.time())\n",
        "print(type(fecha))\n",
        "\n",
        "fechaPersonalizada = date(2025,8,1)\n",
        "print(fechaPersonalizada)\n",
        "\n",
        "fecha = \"2025-08-08\"\n",
        "fecha = datetime.strptime(fecha, \"%Y-%m-%d\")\n",
        "print(fecha)\n",
        "\n",
        "print( fecha.strftime(\"%d/%m/%Y\"), \"Regresamos a clases \" )\n",
        "\n",
        "fechaNac = input(\"Dime tu fecha de nacimiento en formato d-m-Y: \")\n",
        "fechaNac = datetime.strptime(fechaNac, \"%d-%m-%Y\")\n",
        "print(fechaNac)"
      ],
      "metadata": {
        "id": "X8-L_ag2PTj2",
        "outputId": "7d410958-bdeb-4244-a9ff-744853c2c56d",
        "colab": {
          "base_uri": "https://localhost:8080/"
        }
      },
      "execution_count": 9,
      "outputs": [
        {
          "output_type": "stream",
          "name": "stdout",
          "text": [
            "2025-08-12 01:26:26.103827 2025-08-12 01:26:26.103827\n",
            "<class 'datetime.datetime'>\n",
            "2025-08-01\n",
            "2025-08-08 00:00:00\n",
            "08/08/2025 Regresamos a clases \n",
            "Dime tu fecha de nacimiento en formato d-m-Y: 10-07-2005\n",
            "2005-07-10 00:00:00\n"
          ]
        }
      ]
    }
  ],
  "metadata": {
    "colab": {
      "name": "Te damos la bienvenida a Colab",
      "toc_visible": true,
      "provenance": [],
      "include_colab_link": true
    },
    "kernelspec": {
      "display_name": "Python 3",
      "name": "python3"
    }
  },
  "nbformat": 4,
  "nbformat_minor": 0
}