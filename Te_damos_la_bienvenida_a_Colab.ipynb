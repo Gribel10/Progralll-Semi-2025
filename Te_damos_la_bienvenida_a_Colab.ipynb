{
  "cells": [
    {
      "cell_type": "markdown",
      "metadata": {
        "id": "view-in-github",
        "colab_type": "text"
      },
      "source": [
        "<a href=\"https://colab.research.google.com/github/Gribel10/Progralll-Semi-2025/blob/main/Te_damos_la_bienvenida_a_Colab.ipynb\" target=\"_parent\"><img src=\"https://colab.research.google.com/assets/colab-badge.svg\" alt=\"Open In Colab\"/></a>"
      ]
    },
    {
      "cell_type": "code",
      "source": [
        "def suma(a,b):\n",
        "  return a+b"
      ],
      "metadata": {
        "id": "moyU4fHYUEeZ"
      },
      "execution_count": 44,
      "outputs": []
    },
    {
      "cell_type": "code",
      "source": [
        "a = float(input(\"Num1: \"))\n",
        "b = float(input(\"Num2: \"))\n",
        "\n",
        "suma = suma(a,b)\n",
        "print(\"La suma es: \", suma)"
      ],
      "metadata": {
        "id": "8dDNGpOaUMss",
        "outputId": "649b5d2c-b7b2-41b9-e93e-3bf7b2d7f438",
        "colab": {
          "base_uri": "https://localhost:8080/"
        }
      },
      "execution_count": 45,
      "outputs": [
        {
          "output_type": "stream",
          "name": "stdout",
          "text": [
            "Num1: 5\n",
            "Num2: 4\n",
            "La suma es:  9.0\n"
          ]
        }
      ]
    },
    {
      "cell_type": "code",
      "source": [
        "a = float(input(\"Num1: \"))\n",
        "b = float(input(\"Num2: \"))\n",
        "\n",
        "sum = lambda a,b: a+b\n",
        "print( \"La suma de \", a, \" mas b \", b, \" es igual \", sum(a,b) )"
      ],
      "metadata": {
        "id": "Dlcr3tx0UUre",
        "outputId": "294471a9-2a87-40ec-ad39-905ae2fff47e",
        "colab": {
          "base_uri": "https://localhost:8080/"
        }
      },
      "execution_count": 46,
      "outputs": [
        {
          "output_type": "stream",
          "name": "stdout",
          "text": [
            "Num1: 4\n",
            "Num2: 8\n",
            "La suma de  4.0  mas b  8.0  es igual  12.0\n"
          ]
        }
      ]
    }
  ],
  "metadata": {
    "colab": {
      "name": "Te damos la bienvenida a Colab",
      "toc_visible": true,
      "provenance": [],
      "include_colab_link": true
    },
    "kernelspec": {
      "display_name": "Python 3",
      "name": "python3"
    }
  },
  "nbformat": 4,
  "nbformat_minor": 0
}