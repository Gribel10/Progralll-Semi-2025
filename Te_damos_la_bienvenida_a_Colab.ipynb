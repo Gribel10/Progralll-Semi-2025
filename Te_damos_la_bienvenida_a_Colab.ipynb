{
  "cells": [
    {
      "cell_type": "markdown",
      "metadata": {
        "id": "view-in-github",
        "colab_type": "text"
      },
      "source": [
        "<a href=\"https://colab.research.google.com/github/Gribel10/Progralll-Semi-2025/blob/main/Te_damos_la_bienvenida_a_Colab.ipynb\" target=\"_parent\"><img src=\"https://colab.research.google.com/assets/colab-badge.svg\" alt=\"Open In Colab\"/></a>"
      ]
    },
    {
      "cell_type": "code",
      "source": [
        "#Suma\n",
        "def suma(num1, num2):\n",
        "  return num1 + num2\n",
        ""
      ],
      "metadata": {
        "id": "r-orRj_URhdi"
      },
      "execution_count": 19,
      "outputs": []
    },
    {
      "cell_type": "code",
      "source": [
        "print(\"La suma de 5 + 8 = \", suma(5,8))"
      ],
      "metadata": {
        "id": "7gCiaDGwRtqd",
        "outputId": "893132ae-3443-4808-ca22-e143d5ebbe68",
        "colab": {
          "base_uri": "https://localhost:8080/"
        }
      },
      "execution_count": 18,
      "outputs": [
        {
          "output_type": "stream",
          "name": "stdout",
          "text": [
            "La suma de 5 + 8 =  13\n"
          ]
        }
      ]
    },
    {
      "cell_type": "code",
      "source": [
        "num1 = float(input(\"Num1: \"))\n",
        "num2 = float(input(\"Num2: \"))\n",
        "respuesta = suma(num1, num2)\n",
        "print(\"La suma es: \", respuesta)"
      ],
      "metadata": {
        "id": "oC3L3bT1R3tM",
        "outputId": "da4e4c94-1d3b-4934-cf6f-0ec4cba84b57",
        "colab": {
          "base_uri": "https://localhost:8080/"
        }
      },
      "execution_count": 20,
      "outputs": [
        {
          "output_type": "stream",
          "name": "stdout",
          "text": [
            "Num1: 7\n",
            "Num2: 8\n",
            "La suma es:  15.0\n"
          ]
        }
      ]
    },
    {
      "cell_type": "code",
      "source": [
        "def celsiusFarenheit(c):\n",
        "  return c*1.8 + 32\n",
        "\n",
        "\n",
        ""
      ],
      "metadata": {
        "id": "LBeAY65NR-rA"
      },
      "execution_count": 28,
      "outputs": []
    },
    {
      "cell_type": "code",
      "source": [
        " c = int(input(\"Grados c: \"))\n",
        "f = celsiusFarenheit(c)\n",
        "print(\"F: \", f)"
      ],
      "metadata": {
        "id": "U0M4YhNASZQ9",
        "outputId": "28f5f561-a319-4645-c921-4dc126fdbb12",
        "colab": {
          "base_uri": "https://localhost:8080/"
        }
      },
      "execution_count": 34,
      "outputs": [
        {
          "output_type": "stream",
          "name": "stdout",
          "text": [
            "Grados c: 38\n",
            "F:  100.4\n"
          ]
        }
      ]
    },
    {
      "cell_type": "code",
      "source": [
        "def farenheitCelsius(f):\n",
        "  return (f-32) * 5/9\n",
        "\n",
        "f = float(input(\"F: \"))\n",
        "c = farenheitCelsius(f)\n",
        "print(\"C: \", c)"
      ],
      "metadata": {
        "id": "AcQBBC5ES-tH",
        "outputId": "9ba525ba-5818-435c-8d5a-e35975bc5eaf",
        "colab": {
          "base_uri": "https://localhost:8080/"
        }
      },
      "execution_count": 35,
      "outputs": [
        {
          "output_type": "stream",
          "name": "stdout",
          "text": [
            "F: 5\n",
            "C:  -15.0\n"
          ]
        }
      ]
    },
    {
      "cell_type": "code",
      "source": [
        "def celsiusKelvin(c):\n",
        "  return c + 273.15\n",
        "\n",
        "c = float(input(\"C: \"))\n",
        "k = celsiusKelvin(c)\n",
        "print(\"K: \", k)"
      ],
      "metadata": {
        "id": "UNuEHi4LTKzi",
        "outputId": "55a5e87c-4fbd-4080-bbb8-5cf755c02fe2",
        "colab": {
          "base_uri": "https://localhost:8080/"
        }
      },
      "execution_count": 36,
      "outputs": [
        {
          "output_type": "stream",
          "name": "stdout",
          "text": [
            "C: 4\n",
            "K:  277.15\n"
          ]
        }
      ]
    },
    {
      "cell_type": "code",
      "source": [
        "def sueldo(numHrs, valorXhr):\n",
        "  sueldo = numHrs * valorXhr * 30\n",
        "  return sueldo"
      ],
      "metadata": {
        "id": "pL5JshiRTRYO"
      },
      "execution_count": null,
      "outputs": []
    },
    {
      "cell_type": "code",
      "source": [
        "numHrs = float(input(\"Hrs: \"))\n",
        "valorXhr = float(input(\"Valor Xhr: \"))\n",
        "sueldo = sueldo(numHrs, valorXhr)\n",
        "\n",
        "print(\"Sueldo: \", sueldo)\n"
      ],
      "metadata": {
        "id": "LFhutEIhTSak"
      },
      "execution_count": null,
      "outputs": []
    },
    {
      "cell_type": "code",
      "source": [
        "def expoenciacion(b,e):\n",
        "  return b**e\n",
        "\n",
        "b = float(input(\"Base: \"))\n",
        "e = float(input(\"Exponente: \"))\n",
        "\n",
        "resultado = expoenciacion(b,e)\n",
        "print(\"El Numero: \", b, \", elevado a \",e, \", el resultado es: \", resultado)\n",
        ""
      ],
      "metadata": {
        "id": "EVb5tcEITpzf",
        "outputId": "18b33008-abfd-45a7-ab8f-3077db910086",
        "colab": {
          "base_uri": "https://localhost:8080/"
        }
      },
      "execution_count": 43,
      "outputs": [
        {
          "output_type": "stream",
          "name": "stdout",
          "text": [
            "Base: 8\n",
            "Exponente: 3\n",
            "El Numero:  8.0 , elevado a  3.0 , el resultado es:  512.0\n"
          ]
        }
      ]
    }
  ],
  "metadata": {
    "colab": {
      "name": "Te damos la bienvenida a Colab",
      "toc_visible": true,
      "provenance": [],
      "include_colab_link": true
    },
    "kernelspec": {
      "display_name": "Python 3",
      "name": "python3"
    }
  },
  "nbformat": 4,
  "nbformat_minor": 0
}